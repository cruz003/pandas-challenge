{
 "cells": [
  {
   "cell_type": "markdown",
   "metadata": {},
   "source": [
    "### Note\n",
    "* Instructions have been included for each segment. You do not have to follow them exactly, but they are included to help you think through the steps."
   ]
  },
  {
   "cell_type": "code",
   "execution_count": null,
   "metadata": {},
   "outputs": [],
   "source": [
    "# Dependencies and Setup\n",
    "import pandas as pd\n",
    "\n",
    "# File to Load (Remember to Change These)\n",
    "school_data_to_load = \"Resources/schools_complete.csv\"\n",
    "student_data_to_load = \"Resources/students_complete.csv\"\n",
    "\n",
    "# Read School and Student Data File and store into Pandas Data Frames\n",
    "school_data = pd.read_csv(school_data_to_load)\n",
    "student_data = pd.read_csv(student_data_to_load)\n",
    "\n",
    "# Combine the data into a single dataset\n",
    "school_data_complete = pd.merge(student_data, school_data, how=\"left\", on=[\"school_name\", \"school_name\"])\n",
    "\n",
    "# Display summary of Data frame\n",
    "school_data_complete.head()\n",
    "\n",
    "\n"
   ]
  },
  {
   "cell_type": "markdown",
   "metadata": {},
   "source": [
    "## District Summary\n",
    "\n",
    "* Calculate the total number of schools\n",
    "\n",
    "* Calculate the total number of students\n",
    "\n",
    "* Calculate the total budget\n",
    "\n",
    "* Calculate the average math score \n",
    "\n",
    "* Calculate the average reading score\n",
    "\n",
    "* Calculate the overall passing rate (overall average score), i.e. (avg. math score + avg. reading score)/2\n",
    "\n",
    "* Calculate the percentage of students with a passing math score (70 or greater)\n",
    "\n",
    "* Calculate the percentage of students with a passing reading score (70 or greater)\n",
    "\n",
    "* Create a dataframe to hold the above results\n",
    "\n",
    "* Optional: give the displayed data cleaner formatting"
   ]
  },
  {
   "cell_type": "code",
   "execution_count": null,
   "metadata": {},
   "outputs": [],
   "source": [
    "#Calculate the total number of schools - Complete\n",
    "school_count = len(school_data_complete['school_name'].value_counts())\n",
    "\n",
    "#Calculate the total number of students - Complete\n",
    "student_count = school_data_complete['Student ID'].count()\n",
    "\n",
    "#Calculate the total budget\n",
    "total_budget = school_data.budget.sum()\n",
    "\n",
    "#Calculate the average math score\n",
    "avg_math_score = student_data.math_score.mean()\n",
    "\n",
    "#Calculate the average reading score\n",
    "avg_reading_score = student_data.reading_score.mean()\n",
    "\n",
    "#Calculate the overall passing rate (overall average score), i.e. (avg. math score + avg. reading score)/2\n",
    "overall_avg_score = (avg_math_score + avg_reading_score) / 2\n",
    "\n",
    "#Calculate the percentage of students with a passing math score (70 or greater)\n",
    "math = student_data.loc[student_data.math_score>=70]\n",
    "passing_math = (math.math_score.count() / student_count) * 100\n",
    "\n",
    "#Calculate the percentage of students with a passing reading score (70 or greater)\n",
    "reading = student_data.loc[student_data.reading_score>=70]\n",
    "passing_reading = (reading.reading_score.count() / student_count) * 100\n",
    "\n",
    "#Create a dataframe to hold the above results\n",
    "school_results = pd.DataFrame({'School Count': [school_count], 'Student Count': [student_count], 'Total Budget':\n",
    "                               [total_budget], 'Average Math Score': [avg_math_score], 'Average Reading Score':\n",
    "                                [avg_reading_score], 'Overall Passing Rate': [overall_avg_score], 'Percentage Passing Math':\n",
    "                                [passing_math], 'Percentage Passing Reading': [passing_reading]})\n",
    "school_results.head()\n",
    "\n",
    "#Optional: give the displayed data cleaner formatting\n"
   ]
  },
  {
   "cell_type": "markdown",
   "metadata": {},
   "source": [
    "## School Summary"
   ]
  },
  {
   "cell_type": "markdown",
   "metadata": {},
   "source": [
    "* Create an overview table that summarizes key metrics about each school, including:\n",
    "  * School Name\n",
    "  * School Type\n",
    "  * Total Students\n",
    "  * Total School Budget\n",
    "  * Per Student Budget\n",
    "  * Average Math Score\n",
    "  * Average Reading Score\n",
    "  * % Passing Math\n",
    "  * % Passing Reading\n",
    "  * Overall Passing Rate (Average of the above two)\n",
    "  \n",
    "* Create a dataframe to hold the above results"
   ]
  },
  {
   "cell_type": "markdown",
   "metadata": {},
   "source": [
    "## Top Performing Schools (By Passing Rate)"
   ]
  },
  {
   "cell_type": "markdown",
   "metadata": {},
   "source": [
    "* Sort and display the top five schools in overall passing rate"
   ]
  },
  {
   "cell_type": "code",
   "execution_count": null,
   "metadata": {},
   "outputs": [],
   "source": [
    "#copy data into new Data Frame\n",
    "school_summary = school_data\n",
    "school_summary.set_index('School ID')\n",
    "\n",
    "#Add column to new data frame and calculate budget per student\n",
    "school_summary[\"per_student_budget\"] = (school_summary[\"budget\"] / school_summary[\"size\"])\n",
    "\n",
    "#Calculate Average Reading Score and group by school\n",
    "avg_reading_score = school_data_complete.groupby(\"school_name\").reading_score.mean().reset_index()\n",
    "avg_reading_score.rename(columns={'reading_score': 'avg_reading_score'}, inplace=True)\n",
    "\n",
    "#Calculate Average Math Score and group by school\n",
    "avg_math_score = school_data_complete.groupby(\"school_name\").math_score.mean().reset_index()\n",
    "avg_math_score.rename(columns={'math_score': 'avg_math_score'}, inplace=True)\n",
    "\n",
    "#Calculate Passing Math Count\n",
    "passing_math_count = school_data_complete[school_data_complete['math_score'] >= 70].groupby('school_name').count().reset_index()\n",
    "passing_math = passing_math_count[['school_name', 'math_score']]\n",
    "passing_math.rename(columns={'school_name': 'school_name', 'math_score': 'count_passing_math'}, inplace=True)\n",
    "\n",
    "#Caclulate Passing Reading Count\n",
    "passing_reading_count = school_data_complete[school_data_complete['reading_score'] >= 70].groupby('school_name').count().reset_index()\n",
    "passing_reading = passing_reading_count[['school_name', 'reading_score']]\n",
    "passing_reading.rename(columns={'school_name': 'school_name', 'reading_score': 'count_passing_reading'}, inplace=True)\n",
    "\n",
    "#Merge All Summary Dataframes\n",
    "school_summary_complete = pd.merge(school_summary, avg_reading_score, how=\"inner\", on=\"school_name\")\n",
    "school_summary_complete = pd.merge(school_summary_complete, avg_math_score, how=\"inner\", on=\"school_name\")\n",
    "school_summary_complete = pd.merge(school_summary_complete, passing_math, how=\"inner\", on=\"school_name\")\n",
    "school_summary_complete = pd.merge(school_summary_complete, passing_reading, how=\"inner\", on=\"school_name\")\n",
    "\n",
    "#Convert Passing Scores to % (this was tricky since pandas has a method called \"size\")\n",
    "school_summary_complete['pct_passing_reading'] = (school_summary_complete.count_passing_reading / school_summary_complete['size']) * 100\n",
    "school_summary_complete['pct_passing_math'] = (school_summary_complete.count_passing_math / school_summary_complete['size']) * 100\n",
    "\n",
    "#Calculate Overall Passing Rate\n",
    "school_summary_complete['Overall Passing Rate'] = (school_summary_complete.pct_passing_reading + school_summary_complete.pct_passing_math) / 2\n",
    "\n",
    "\n",
    "#Cleanup column headings and drop unnecessary data\n",
    "school_summary_complete.drop(['count_passing_math', 'count_passing_reading'], axis=1, inplace=True)\n",
    "school_summary_complete.rename(columns={'school_name': 'School Name', 'type': 'School Type', 'size': 'Student Population',\n",
    "                                        'budget': 'Budget', 'per_student_budget': 'Budget per Student', 'avg_reading_score': \n",
    "                                        'Average Reading Score', 'avg_math_score': 'Average Math Score', 'pct_passing_reading':\n",
    "                                       'Percent Passing Reading', 'pct_passing_math': 'Percent Passing Math'}, inplace=True)\n",
    "\n",
    "\n",
    "#Sort and display the top five schools in overall passing rate\n",
    "school_summary_complete.sort_values(by=['Overall Passing Rate'], ascending=False).head(5)\n",
    " \n",
    "\n",
    "\n",
    "\n",
    "\n",
    "\n",
    "\n"
   ]
  },
  {
   "cell_type": "markdown",
   "metadata": {},
   "source": [
    "## Bottom Performing Schools (By Passing Rate)"
   ]
  },
  {
   "cell_type": "markdown",
   "metadata": {},
   "source": [
    "* Sort and display the five worst-performing schools"
   ]
  },
  {
   "cell_type": "code",
   "execution_count": null,
   "metadata": {},
   "outputs": [],
   "source": [
    "#Sort and display the five schools in overall passing rate\n",
    "school_summary_complete.sort_values(by=['Overall Passing Rate'], ascending=True).head(5)"
   ]
  },
  {
   "cell_type": "markdown",
   "metadata": {
    "collapsed": true
   },
   "source": [
    "## Math Scores by Grade"
   ]
  },
  {
   "cell_type": "markdown",
   "metadata": {},
   "source": [
    "* Create a table that lists the average Reading Score for students of each grade level (9th, 10th, 11th, 12th) at each school.\n",
    "\n",
    "  * Create a pandas series for each grade. Hint: use a conditional statement.\n",
    "  \n",
    "  * Group each series by school\n",
    "  \n",
    "  * Combine the series into a dataframe\n",
    "  \n",
    "  * Optional: give the displayed data cleaner formatting"
   ]
  },
  {
   "cell_type": "code",
   "execution_count": null,
   "metadata": {},
   "outputs": [],
   "source": [
    "#create separate tables for each grade\n",
    "ninth_grades = student_data.loc[student_data['grade'] == '9th']\n",
    "tenth_grades = student_data.loc[student_data['grade'] == '10th']\n",
    "eleventh_grades = student_data.loc[student_data['grade'] == '11th']\n",
    "twelvth_grades = student_data.loc[student_data['grade'] == '12th']\n",
    "\n",
    "#calculate the average math scores for each grade\n",
    "ninth_grades_schools = ninth_grades.groupby('school_name').math_score.mean().reset_index()\n",
    "tenth_grades_schools = tenth_grades.groupby('school_name').math_score.mean().reset_index()\n",
    "eleventh_grades_schools = eleventh_grades.groupby('school_name').math_score.mean().reset_index()\n",
    "twelvth_grades_schools = twelvth_grades.groupby('school_name').math_score.mean().reset_index()\n",
    "\n",
    "#merge the dataframes to create summary table\n",
    "math_scores_by_grade = pd.merge(ninth_grades_schools, tenth_grades_schools, how=\"outer\", on=\"school_name\")\n",
    "math_scores_by_grade = math_scores_by_grade.rename(columns={'math_score_x': '9th Grade Avg', 'math_score_y': '10th Grade Avg'})\n",
    "math_scores_by_grade = pd.merge(math_scores_by_grade, eleventh_grades_schools, how=\"outer\", on=\"school_name\")\n",
    "math_scores_by_grade = math_scores_by_grade.rename(columns={'math_score': '11th Grade Avg'})\n",
    "math_scores_by_grade = pd.merge(math_scores_by_grade, twelvth_grades_schools, how=\"outer\", on=\"school_name\")\n",
    "math_scores_by_grade = math_scores_by_grade.rename(columns={'math_score': '12th Grade Avg'})\n",
    "\n",
    "math_scores_by_grade.head(25)\n"
   ]
  },
  {
   "cell_type": "markdown",
   "metadata": {},
   "source": [
    "## Reading Score by Grade "
   ]
  },
  {
   "cell_type": "markdown",
   "metadata": {},
   "source": [
    "* Perform the same operations as above for reading scores"
   ]
  },
  {
   "cell_type": "code",
   "execution_count": null,
   "metadata": {},
   "outputs": [],
   "source": [
    "#create separate tables for each frame\n",
    "ninth_grades = student_data.loc[student_data['grade'] == '9th']\n",
    "tenth_grades = student_data.loc[student_data['grade'] == '10th']\n",
    "eleventh_grades = student_data.loc[student_data['grade'] == '11th']\n",
    "twelvth_grades = student_data.loc[student_data['grade'] == '12th']\n",
    "\n",
    "#calculate the average reading scores for each grade\n",
    "ninth_grades_schools = ninth_grades.groupby('school_name').reading_score.mean().reset_index()\n",
    "tenth_grades_schools = tenth_grades.groupby('school_name').reading_score.mean().reset_index()\n",
    "eleventh_grades_schools = eleventh_grades.groupby('school_name').reading_score.mean().reset_index()\n",
    "twelvth_grades_schools = twelvth_grades.groupby('school_name').reading_score.mean().reset_index()\n",
    "\n",
    "#merge the dataframes for each grade\n",
    "reading_scores_by_grade = pd.merge(ninth_grades_schools, tenth_grades_schools, how=\"outer\", on=\"school_name\")\n",
    "reading_scores_by_grade = math_scores_by_grade.rename(columns={'reading_score_x': '9th Grade Avg', 'reading_score_y': '10th Grade Avg'})\n",
    "reading_scores_by_grade = pd.merge(math_scores_by_grade, eleventh_grades_schools, how=\"outer\", on=\"school_name\")\n",
    "reading_scores_by_grade = math_scores_by_grade.rename(columns={'reading_score': '11th Grade Avg'})\n",
    "reading_scores_by_grade = pd.merge(math_scores_by_grade, twelvth_grades_schools, how=\"outer\", on=\"school_name\")\n",
    "reading_scores_by_grade = math_scores_by_grade.rename(columns={'reading_score': '12th Grade Avg'})\n",
    "\n",
    "reading_scores_by_grade.head(25)"
   ]
  },
  {
   "cell_type": "markdown",
   "metadata": {},
   "source": [
    "## Scores by School Spending"
   ]
  },
  {
   "cell_type": "markdown",
   "metadata": {},
   "source": [
    "* Create a table that breaks down school performances based on average Spending Ranges (Per Student). Use 4 reasonable bins to group school spending. Include in the table each of the following:\n",
    "  * Average Math Score\n",
    "  * Average Reading Score\n",
    "  * % Passing Math\n",
    "  * % Passing Reading\n",
    "  * Overall Passing Rate (Average of the above two)"
   ]
  },
  {
   "cell_type": "code",
   "execution_count": null,
   "metadata": {},
   "outputs": [],
   "source": [
    "# Sample bins. Feel free to create your own bins.\n",
    "spending_bins = [0, 585, 615, 645, 675]\n",
    "group_names = [\"<$585\", \"$585-615\", \"$615-645\", \"$645-675\"]"
   ]
  },
  {
   "cell_type": "code",
   "execution_count": null,
   "metadata": {},
   "outputs": [],
   "source": [
    "#school_summary_complete\n",
    "#school_summary_complete.head()\n",
    "school_summary_complete[\"School Spending\"] = pd.cut(school_summary_complete[\"Budget per Student\"], spending_bins, labels=group_names)\n",
    "\n",
    "#ted_df[\"View Group\"] = pd.cut(ted_df[\"views\"], bins, labels=group_labels)\n",
    "school_summary_complete = school_summary_complete.groupby(\"School Spending\")\n",
    "#print(school_summary_complete)\n",
    "#grp = df.groupby['colName']\n",
    "school_summary_complete.describe()\n"
   ]
  },
  {
   "cell_type": "markdown",
   "metadata": {},
   "source": [
    "## Scores by School Size"
   ]
  },
  {
   "cell_type": "markdown",
   "metadata": {},
   "source": [
    "* Perform the same operations as above, based on school size."
   ]
  },
  {
   "cell_type": "code",
   "execution_count": null,
   "metadata": {},
   "outputs": [],
   "source": [
    "# Sample bins. Feel free to create your own bins.\n",
    "size_bins = [0, 1000, 2000, 5000]\n",
    "group_names = [\"Small (<1000)\", \"Medium (1000-2000)\", \"Large (2000-5000)\"]"
   ]
  },
  {
   "cell_type": "code",
   "execution_count": null,
   "metadata": {
    "scrolled": true
   },
   "outputs": [],
   "source": []
  },
  {
   "cell_type": "markdown",
   "metadata": {},
   "source": [
    "## Scores by School Type"
   ]
  },
  {
   "cell_type": "markdown",
   "metadata": {},
   "source": [
    "* Perform the same operations as above, based on school type."
   ]
  },
  {
   "cell_type": "code",
   "execution_count": null,
   "metadata": {},
   "outputs": [],
   "source": []
  },
  {
   "cell_type": "code",
   "execution_count": null,
   "metadata": {},
   "outputs": [],
   "source": []
  }
 ],
 "metadata": {
  "anaconda-cloud": {},
  "kernel_info": {
   "name": "python3"
  },
  "kernelspec": {
   "display_name": "Python 3",
   "language": "python",
   "name": "python3"
  },
  "language_info": {
   "codemirror_mode": {
    "name": "ipython",
    "version": 3
   },
   "file_extension": ".py",
   "mimetype": "text/x-python",
   "name": "python",
   "nbconvert_exporter": "python",
   "pygments_lexer": "ipython3",
   "version": "3.6.9"
  },
  "latex_envs": {
   "LaTeX_envs_menu_present": true,
   "autoclose": false,
   "autocomplete": true,
   "bibliofile": "biblio.bib",
   "cite_by": "apalike",
   "current_citInitial": 1,
   "eqLabelWithNumbers": true,
   "eqNumInitial": 1,
   "hotkeys": {
    "equation": "Ctrl-E",
    "itemize": "Ctrl-I"
   },
   "labels_anchors": false,
   "latex_user_defs": false,
   "report_style_numbering": false,
   "user_envs_cfg": false
  },
  "nteract": {
   "version": "0.8.4"
  }
 },
 "nbformat": 4,
 "nbformat_minor": 1
}
